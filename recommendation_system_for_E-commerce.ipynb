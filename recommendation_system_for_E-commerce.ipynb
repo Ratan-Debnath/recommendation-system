{
 "cells": [
  {
   "cell_type": "code",
   "execution_count": 1,
   "id": "3d01508b-1d87-4af3-bee6-cdfbfa76c40b",
   "metadata": {},
   "outputs": [],
   "source": [
    "import numpy as np # linear algebra\n",
    "import pandas as pd # data processing,\n",
    "# Split\n",
    "from sklearn.model_selection import train_test_split\n",
    "\n",
    "from surprise import Reader, Dataset, SVD\n",
    "from surprise.model_selection import cross_validate"
   ]
  },
  {
   "cell_type": "code",
   "execution_count": 3,
   "id": "5aacd6af-725f-4966-a37a-ea16777adf3d",
   "metadata": {},
   "outputs": [],
   "source": [
    "df = pd.read_csv(\"/Users/ratan/Desktop/Documents/recommendation system/ratings_amazon_electronics_products.csv\", names=['userId', 'productId','rating','timestamp'])"
   ]
  },
  {
   "cell_type": "code",
   "execution_count": 5,
   "id": "039ffd9c-26cc-4bc5-9386-1dfca4b3ab45",
   "metadata": {},
   "outputs": [
    {
     "data": {
      "text/html": [
       "<div>\n",
       "<style scoped>\n",
       "    .dataframe tbody tr th:only-of-type {\n",
       "        vertical-align: middle;\n",
       "    }\n",
       "\n",
       "    .dataframe tbody tr th {\n",
       "        vertical-align: top;\n",
       "    }\n",
       "\n",
       "    .dataframe thead th {\n",
       "        text-align: right;\n",
       "    }\n",
       "</style>\n",
       "<table border=\"1\" class=\"dataframe\">\n",
       "  <thead>\n",
       "    <tr style=\"text-align: right;\">\n",
       "      <th></th>\n",
       "      <th>userId</th>\n",
       "      <th>productId</th>\n",
       "      <th>rating</th>\n",
       "      <th>timestamp</th>\n",
       "    </tr>\n",
       "  </thead>\n",
       "  <tbody>\n",
       "    <tr>\n",
       "      <th>0</th>\n",
       "      <td>AKM1MP6P0OYPR</td>\n",
       "      <td>0132793040</td>\n",
       "      <td>5.0</td>\n",
       "      <td>1365811200</td>\n",
       "    </tr>\n",
       "    <tr>\n",
       "      <th>1</th>\n",
       "      <td>A2CX7LUOHB2NDG</td>\n",
       "      <td>0321732944</td>\n",
       "      <td>5.0</td>\n",
       "      <td>1341100800</td>\n",
       "    </tr>\n",
       "    <tr>\n",
       "      <th>2</th>\n",
       "      <td>A2NWSAGRHCP8N5</td>\n",
       "      <td>0439886341</td>\n",
       "      <td>1.0</td>\n",
       "      <td>1367193600</td>\n",
       "    </tr>\n",
       "    <tr>\n",
       "      <th>3</th>\n",
       "      <td>A2WNBOD3WNDNKT</td>\n",
       "      <td>0439886341</td>\n",
       "      <td>3.0</td>\n",
       "      <td>1374451200</td>\n",
       "    </tr>\n",
       "    <tr>\n",
       "      <th>4</th>\n",
       "      <td>A1GI0U4ZRJA8WN</td>\n",
       "      <td>0439886341</td>\n",
       "      <td>1.0</td>\n",
       "      <td>1334707200</td>\n",
       "    </tr>\n",
       "  </tbody>\n",
       "</table>\n",
       "</div>"
      ],
      "text/plain": [
       "           userId   productId  rating   timestamp\n",
       "0   AKM1MP6P0OYPR  0132793040     5.0  1365811200\n",
       "1  A2CX7LUOHB2NDG  0321732944     5.0  1341100800\n",
       "2  A2NWSAGRHCP8N5  0439886341     1.0  1367193600\n",
       "3  A2WNBOD3WNDNKT  0439886341     3.0  1374451200\n",
       "4  A1GI0U4ZRJA8WN  0439886341     1.0  1334707200"
      ]
     },
     "execution_count": 5,
     "metadata": {},
     "output_type": "execute_result"
    }
   ],
   "source": [
    "df.head()"
   ]
  },
  {
   "cell_type": "code",
   "execution_count": 7,
   "id": "9103863c-b218-443a-9e3f-c773014c60eb",
   "metadata": {},
   "outputs": [
    {
     "name": "stdout",
     "output_type": "stream",
     "text": [
      "<class 'pandas.core.frame.DataFrame'>\n",
      "RangeIndex: 7824482 entries, 0 to 7824481\n",
      "Data columns (total 4 columns):\n",
      " #   Column     Dtype  \n",
      "---  ------     -----  \n",
      " 0   userId     object \n",
      " 1   productId  object \n",
      " 2   rating     float64\n",
      " 3   timestamp  int64  \n",
      "dtypes: float64(1), int64(1), object(2)\n",
      "memory usage: 238.8+ MB\n"
     ]
    }
   ],
   "source": [
    "df.info()"
   ]
  },
  {
   "cell_type": "code",
   "execution_count": 9,
   "id": "461db513-f210-4c1d-b590-313784d92543",
   "metadata": {},
   "outputs": [
    {
     "name": "stdout",
     "output_type": "stream",
     "text": [
      "Total Reviews: 7824482\n",
      "Total Columns: 4\n"
     ]
    }
   ],
   "source": [
    "print(\"Total Reviews:\",df.shape[0])\n",
    "print(\"Total Columns:\",df.shape[1])"
   ]
  },
  {
   "cell_type": "code",
   "execution_count": 11,
   "id": "b685b975-ca27-40c9-beb7-f94ea1b8e56c",
   "metadata": {},
   "outputs": [
    {
     "name": "stdout",
     "output_type": "stream",
     "text": [
      "Total number of ratings : 5\n",
      "Total number of users   : 4201696\n",
      "Total number of products  : 476002\n"
     ]
    }
   ],
   "source": [
    "print(\"Total number of ratings :\",df.rating.nunique())\n",
    "print(\"Total number of users   :\", df.userId.nunique())\n",
    "print(\"Total number of products  :\", df.productId.nunique())"
   ]
  },
  {
   "cell_type": "code",
   "execution_count": 13,
   "id": "ec2b2afb-e8d1-4da3-b255-0759284f5d68",
   "metadata": {},
   "outputs": [
    {
     "data": {
      "text/plain": [
       "userId       0\n",
       "productId    0\n",
       "rating       0\n",
       "timestamp    0\n",
       "dtype: int64"
      ]
     },
     "execution_count": 13,
     "metadata": {},
     "output_type": "execute_result"
    }
   ],
   "source": [
    "# Check missing value\n",
    "df.isnull().sum()"
   ]
  },
  {
   "cell_type": "code",
   "execution_count": 15,
   "id": "2f1bcc5f-e6a9-4390-bd97-799b673ceb58",
   "metadata": {},
   "outputs": [
    {
     "data": {
      "text/plain": [
       "userId       False\n",
       "productId    False\n",
       "rating       False\n",
       "timestamp    False\n",
       "dtype: bool"
      ]
     },
     "execution_count": 15,
     "metadata": {},
     "output_type": "execute_result"
    }
   ],
   "source": [
    "# Check Duplicate data\n",
    "df[df.duplicated()].any()"
   ]
  },
  {
   "cell_type": "code",
   "execution_count": 17,
   "id": "0496c79c-3392-49b0-b5c2-de2712e7dd61",
   "metadata": {},
   "outputs": [
    {
     "data": {
      "text/plain": [
       "count    7.824482e+06\n",
       "mean     4.012337e+00\n",
       "std      1.380910e+00\n",
       "min      1.000000e+00\n",
       "25%      3.000000e+00\n",
       "50%      5.000000e+00\n",
       "75%      5.000000e+00\n",
       "max      5.000000e+00\n",
       "Name: rating, dtype: float64"
      ]
     },
     "execution_count": 17,
     "metadata": {},
     "output_type": "execute_result"
    }
   ],
   "source": [
    "# rating describe summary \n",
    "df.describe()['rating']"
   ]
  },
  {
   "cell_type": "code",
   "execution_count": 19,
   "id": "a695df6d-6b17-4977-9562-4931608f8980",
   "metadata": {},
   "outputs": [
    {
     "name": "stdout",
     "output_type": "stream",
     "text": [
      "Unique value of Rating: [5. 1. 3. 2. 4.]\n"
     ]
    }
   ],
   "source": [
    "print(\"Unique value of Rating:\",df.rating.unique())"
   ]
  },
  {
   "cell_type": "code",
   "execution_count": 21,
   "id": "a74c9f1a-81b0-48bb-a656-b34850c9bd48",
   "metadata": {},
   "outputs": [
    {
     "name": "stdout",
     "output_type": "stream",
     "text": [
      "Minimum rating is: 1\n",
      "Maximum rating is: 5\n"
     ]
    }
   ],
   "source": [
    "# Find the minimum and maximum ratings\n",
    "print('Minimum rating is: %d' %(df.rating.min()))\n",
    "print('Maximum rating is: %d' %(df.rating.max()))"
   ]
  },
  {
   "cell_type": "code",
   "execution_count": 23,
   "id": "32327877-7c5e-4209-910b-e34d1d412c99",
   "metadata": {},
   "outputs": [
    {
     "data": {
      "text/html": [
       "<div>\n",
       "<style scoped>\n",
       "    .dataframe tbody tr th:only-of-type {\n",
       "        vertical-align: middle;\n",
       "    }\n",
       "\n",
       "    .dataframe tbody tr th {\n",
       "        vertical-align: top;\n",
       "    }\n",
       "\n",
       "    .dataframe thead th {\n",
       "        text-align: right;\n",
       "    }\n",
       "</style>\n",
       "<table border=\"1\" class=\"dataframe\">\n",
       "  <thead>\n",
       "    <tr style=\"text-align: right;\">\n",
       "      <th></th>\n",
       "      <th>rating</th>\n",
       "      <th>ratings_count</th>\n",
       "      <th>ratings_average</th>\n",
       "    </tr>\n",
       "    <tr>\n",
       "      <th>productId</th>\n",
       "      <th></th>\n",
       "      <th></th>\n",
       "      <th></th>\n",
       "    </tr>\n",
       "  </thead>\n",
       "  <tbody>\n",
       "    <tr>\n",
       "      <th>0132793040</th>\n",
       "      <td>5.000000</td>\n",
       "      <td>1</td>\n",
       "      <td>5.000000</td>\n",
       "    </tr>\n",
       "    <tr>\n",
       "      <th>0321732944</th>\n",
       "      <td>5.000000</td>\n",
       "      <td>1</td>\n",
       "      <td>5.000000</td>\n",
       "    </tr>\n",
       "    <tr>\n",
       "      <th>0439886341</th>\n",
       "      <td>1.666667</td>\n",
       "      <td>3</td>\n",
       "      <td>1.666667</td>\n",
       "    </tr>\n",
       "    <tr>\n",
       "      <th>0511189877</th>\n",
       "      <td>4.500000</td>\n",
       "      <td>6</td>\n",
       "      <td>4.500000</td>\n",
       "    </tr>\n",
       "    <tr>\n",
       "      <th>0528881469</th>\n",
       "      <td>2.851852</td>\n",
       "      <td>27</td>\n",
       "      <td>2.851852</td>\n",
       "    </tr>\n",
       "    <tr>\n",
       "      <th>0558835155</th>\n",
       "      <td>3.000000</td>\n",
       "      <td>1</td>\n",
       "      <td>3.000000</td>\n",
       "    </tr>\n",
       "    <tr>\n",
       "      <th>059400232X</th>\n",
       "      <td>5.000000</td>\n",
       "      <td>3</td>\n",
       "      <td>5.000000</td>\n",
       "    </tr>\n",
       "    <tr>\n",
       "      <th>0594012015</th>\n",
       "      <td>2.000000</td>\n",
       "      <td>8</td>\n",
       "      <td>2.000000</td>\n",
       "    </tr>\n",
       "    <tr>\n",
       "      <th>0594017343</th>\n",
       "      <td>1.000000</td>\n",
       "      <td>1</td>\n",
       "      <td>1.000000</td>\n",
       "    </tr>\n",
       "    <tr>\n",
       "      <th>0594017580</th>\n",
       "      <td>3.000000</td>\n",
       "      <td>1</td>\n",
       "      <td>3.000000</td>\n",
       "    </tr>\n",
       "  </tbody>\n",
       "</table>\n",
       "</div>"
      ],
      "text/plain": [
       "              rating  ratings_count  ratings_average\n",
       "productId                                           \n",
       "0132793040  5.000000              1         5.000000\n",
       "0321732944  5.000000              1         5.000000\n",
       "0439886341  1.666667              3         1.666667\n",
       "0511189877  4.500000              6         4.500000\n",
       "0528881469  2.851852             27         2.851852\n",
       "0558835155  3.000000              1         3.000000\n",
       "059400232X  5.000000              3         5.000000\n",
       "0594012015  2.000000              8         2.000000\n",
       "0594017343  1.000000              1         1.000000\n",
       "0594017580  3.000000              1         3.000000"
      ]
     },
     "execution_count": 23,
     "metadata": {},
     "output_type": "execute_result"
    }
   ],
   "source": [
    "# Average rating of products\n",
    "ratings = pd.DataFrame(df.groupby('productId')['rating'].mean())\n",
    "ratings['ratings_count'] = pd.DataFrame(df.groupby('productId')['rating'].count())\n",
    "ratings['ratings_average'] = pd.DataFrame(df.groupby('productId')['rating'].mean())\n",
    "ratings.head(10)"
   ]
  },
  {
   "cell_type": "markdown",
   "id": "63682459-9b35-4468-8c28-ae2d432e033b",
   "metadata": {},
   "source": [
    "Types of recommender systems:\n",
    "Content-Based Filtering\n",
    "Collaborative Filtering\n",
    "Hybrid Recommender Systems\n",
    "Popular-Based Recommender Systems\n",
    "Knowledge-Based Recommender Systems\n",
    "Reinforcement Learning-Based Recommenders\n"
   ]
  },
  {
   "cell_type": "code",
   "execution_count": 37,
   "id": "83e3be1f-63b2-4991-a328-a8602661152c",
   "metadata": {},
   "outputs": [
    {
     "name": "stdout",
     "output_type": "stream",
     "text": [
      "Average rating of product across the whole dataset is 3.6646757786731987\n"
     ]
    }
   ],
   "source": [
    "#popular Based method\n",
    "vote_counts = ratings[ratings['ratings_count'].notnull()]['ratings_count'].astype('int')\n",
    "vote_averages = ratings[ratings['ratings_average'].notnull()]['ratings_average'].astype('int')\n",
    "C = vote_averages.mean()\n",
    "print(\"Average rating of product across the whole dataset is\",C)"
   ]
  },
  {
   "cell_type": "code",
   "execution_count": 39,
   "id": "b7ab8eb9-7ec3-472b-81cb-48ad4e211095",
   "metadata": {},
   "outputs": [
    {
     "name": "stdout",
     "output_type": "stream",
     "text": [
      "Minimum votes required to be listed in the chart is 55.0\n"
     ]
    }
   ],
   "source": [
    "m = vote_counts.quantile(0.95)\n",
    "print(\"Minimum votes required to be listed in the chart is\",m)"
   ]
  },
  {
   "cell_type": "code",
   "execution_count": 41,
   "id": "ae5604e3-71cf-47e6-9fbd-2c327537c5d6",
   "metadata": {},
   "outputs": [
    {
     "data": {
      "text/html": [
       "<div>\n",
       "<style scoped>\n",
       "    .dataframe tbody tr th:only-of-type {\n",
       "        vertical-align: middle;\n",
       "    }\n",
       "\n",
       "    .dataframe tbody tr th {\n",
       "        vertical-align: top;\n",
       "    }\n",
       "\n",
       "    .dataframe thead th {\n",
       "        text-align: right;\n",
       "    }\n",
       "</style>\n",
       "<table border=\"1\" class=\"dataframe\">\n",
       "  <thead>\n",
       "    <tr style=\"text-align: right;\">\n",
       "      <th></th>\n",
       "      <th>rating</th>\n",
       "      <th>ratings_count</th>\n",
       "      <th>ratings_average</th>\n",
       "    </tr>\n",
       "    <tr>\n",
       "      <th>productId</th>\n",
       "      <th></th>\n",
       "      <th></th>\n",
       "      <th></th>\n",
       "    </tr>\n",
       "  </thead>\n",
       "  <tbody>\n",
       "    <tr>\n",
       "      <th>0132793040</th>\n",
       "      <td>5.000000</td>\n",
       "      <td>1</td>\n",
       "      <td>5.000000</td>\n",
       "    </tr>\n",
       "    <tr>\n",
       "      <th>0321732944</th>\n",
       "      <td>5.000000</td>\n",
       "      <td>1</td>\n",
       "      <td>5.000000</td>\n",
       "    </tr>\n",
       "    <tr>\n",
       "      <th>0439886341</th>\n",
       "      <td>1.666667</td>\n",
       "      <td>3</td>\n",
       "      <td>1.666667</td>\n",
       "    </tr>\n",
       "    <tr>\n",
       "      <th>0511189877</th>\n",
       "      <td>4.500000</td>\n",
       "      <td>6</td>\n",
       "      <td>4.500000</td>\n",
       "    </tr>\n",
       "    <tr>\n",
       "      <th>0528881469</th>\n",
       "      <td>2.851852</td>\n",
       "      <td>27</td>\n",
       "      <td>2.851852</td>\n",
       "    </tr>\n",
       "  </tbody>\n",
       "</table>\n",
       "</div>"
      ],
      "text/plain": [
       "              rating  ratings_count  ratings_average\n",
       "productId                                           \n",
       "0132793040  5.000000              1         5.000000\n",
       "0321732944  5.000000              1         5.000000\n",
       "0439886341  1.666667              3         1.666667\n",
       "0511189877  4.500000              6         4.500000\n",
       "0528881469  2.851852             27         2.851852"
      ]
     },
     "execution_count": 41,
     "metadata": {},
     "output_type": "execute_result"
    }
   ],
   "source": [
    "ratings.head()"
   ]
  },
  {
   "cell_type": "code",
   "execution_count": 43,
   "id": "470c9a90-0d80-40fc-b026-67a8f30659cb",
   "metadata": {},
   "outputs": [],
   "source": [
    "qualified = ratings[(ratings['ratings_count'] >= m) & (ratings['ratings_count'].notnull()) & (ratings['ratings_average'].notnull())][['ratings_count', 'ratings_average']]"
   ]
  },
  {
   "cell_type": "code",
   "execution_count": 45,
   "id": "0cf808e1-bb5c-4c08-8d44-30a0a0ca2827",
   "metadata": {},
   "outputs": [
    {
     "data": {
      "text/html": [
       "<div>\n",
       "<style scoped>\n",
       "    .dataframe tbody tr th:only-of-type {\n",
       "        vertical-align: middle;\n",
       "    }\n",
       "\n",
       "    .dataframe tbody tr th {\n",
       "        vertical-align: top;\n",
       "    }\n",
       "\n",
       "    .dataframe thead th {\n",
       "        text-align: right;\n",
       "    }\n",
       "</style>\n",
       "<table border=\"1\" class=\"dataframe\">\n",
       "  <thead>\n",
       "    <tr style=\"text-align: right;\">\n",
       "      <th></th>\n",
       "      <th>ratings_count</th>\n",
       "      <th>ratings_average</th>\n",
       "    </tr>\n",
       "    <tr>\n",
       "      <th>productId</th>\n",
       "      <th></th>\n",
       "      <th></th>\n",
       "    </tr>\n",
       "  </thead>\n",
       "  <tbody>\n",
       "    <tr>\n",
       "      <th>0972683275</th>\n",
       "      <td>1051</td>\n",
       "      <td>4</td>\n",
       "    </tr>\n",
       "    <tr>\n",
       "      <th>1400501466</th>\n",
       "      <td>250</td>\n",
       "      <td>3</td>\n",
       "    </tr>\n",
       "    <tr>\n",
       "      <th>1400532620</th>\n",
       "      <td>171</td>\n",
       "      <td>3</td>\n",
       "    </tr>\n",
       "    <tr>\n",
       "      <th>1400501776</th>\n",
       "      <td>139</td>\n",
       "      <td>3</td>\n",
       "    </tr>\n",
       "    <tr>\n",
       "      <th>1400501520</th>\n",
       "      <td>82</td>\n",
       "      <td>4</td>\n",
       "    </tr>\n",
       "  </tbody>\n",
       "</table>\n",
       "</div>"
      ],
      "text/plain": [
       "            ratings_count  ratings_average\n",
       "productId                                 \n",
       "0972683275           1051                4\n",
       "1400501466            250                3\n",
       "1400532620            171                3\n",
       "1400501776            139                3\n",
       "1400501520             82                4"
      ]
     },
     "execution_count": 45,
     "metadata": {},
     "output_type": "execute_result"
    }
   ],
   "source": [
    "qualified['ratings_count'] = qualified['ratings_count'].astype('int')\n",
    "qualified['ratings_average'] = qualified['ratings_average'].astype('int')\n",
    "qualified.head().sort_values(by='ratings_count', ascending=False)"
   ]
  },
  {
   "cell_type": "code",
   "execution_count": 47,
   "id": "3de920dc-4f2f-4157-903b-519c95b08ecd",
   "metadata": {},
   "outputs": [
    {
     "data": {
      "text/plain": [
       "(24014, 2)"
      ]
     },
     "execution_count": 47,
     "metadata": {},
     "output_type": "execute_result"
    }
   ],
   "source": [
    "qualified.shape"
   ]
  },
  {
   "cell_type": "code",
   "execution_count": 49,
   "id": "fcddbfef-f8d7-4248-96f0-b26b05648ddd",
   "metadata": {},
   "outputs": [],
   "source": [
    "def weighted_rating(x):\n",
    "    v = x['ratings_count']\n",
    "    R = x['ratings_average']\n",
    "    return (v/(v+m) * R) + (m/(m+v) * C)"
   ]
  },
  {
   "cell_type": "code",
   "execution_count": 51,
   "id": "d9542b1c-a3b4-4954-a03f-57ce3bf6b282",
   "metadata": {},
   "outputs": [],
   "source": [
    "qualified['wr'] = qualified.apply(weighted_rating, axis=1)\n"
   ]
  },
  {
   "cell_type": "code",
   "execution_count": 53,
   "id": "d38e1e60-0256-422d-8896-d6a105d8edb4",
   "metadata": {},
   "outputs": [],
   "source": [
    "qualified = qualified.sort_values('wr', ascending=False).head(20)\n"
   ]
  },
  {
   "cell_type": "code",
   "execution_count": 55,
   "id": "f3170dfe-b7b2-47d8-b93e-3eb2de1e7af4",
   "metadata": {},
   "outputs": [
    {
     "data": {
      "text/html": [
       "<div>\n",
       "<style scoped>\n",
       "    .dataframe tbody tr th:only-of-type {\n",
       "        vertical-align: middle;\n",
       "    }\n",
       "\n",
       "    .dataframe tbody tr th {\n",
       "        vertical-align: top;\n",
       "    }\n",
       "\n",
       "    .dataframe thead th {\n",
       "        text-align: right;\n",
       "    }\n",
       "</style>\n",
       "<table border=\"1\" class=\"dataframe\">\n",
       "  <thead>\n",
       "    <tr style=\"text-align: right;\">\n",
       "      <th></th>\n",
       "      <th>ratings_count</th>\n",
       "      <th>ratings_average</th>\n",
       "      <th>wr</th>\n",
       "    </tr>\n",
       "    <tr>\n",
       "      <th>productId</th>\n",
       "      <th></th>\n",
       "      <th></th>\n",
       "      <th></th>\n",
       "    </tr>\n",
       "  </thead>\n",
       "  <tbody>\n",
       "    <tr>\n",
       "      <th>B0074BW614</th>\n",
       "      <td>18244</td>\n",
       "      <td>4</td>\n",
       "      <td>3.998992</td>\n",
       "    </tr>\n",
       "    <tr>\n",
       "      <th>B007WTAJTO</th>\n",
       "      <td>14172</td>\n",
       "      <td>4</td>\n",
       "      <td>3.998704</td>\n",
       "    </tr>\n",
       "    <tr>\n",
       "      <th>B0019EHU8G</th>\n",
       "      <td>12285</td>\n",
       "      <td>4</td>\n",
       "      <td>3.998505</td>\n",
       "    </tr>\n",
       "    <tr>\n",
       "      <th>B006GWO5WK</th>\n",
       "      <td>12226</td>\n",
       "      <td>4</td>\n",
       "      <td>3.998498</td>\n",
       "    </tr>\n",
       "    <tr>\n",
       "      <th>B003ELYQGG</th>\n",
       "      <td>11617</td>\n",
       "      <td>4</td>\n",
       "      <td>3.998420</td>\n",
       "    </tr>\n",
       "    <tr>\n",
       "      <th>B003ES5ZUU</th>\n",
       "      <td>10276</td>\n",
       "      <td>4</td>\n",
       "      <td>3.998215</td>\n",
       "    </tr>\n",
       "    <tr>\n",
       "      <th>B007R5YDYA</th>\n",
       "      <td>9907</td>\n",
       "      <td>4</td>\n",
       "      <td>3.998149</td>\n",
       "    </tr>\n",
       "    <tr>\n",
       "      <th>B00622AG6S</th>\n",
       "      <td>9823</td>\n",
       "      <td>4</td>\n",
       "      <td>3.998133</td>\n",
       "    </tr>\n",
       "    <tr>\n",
       "      <th>B0002L5R78</th>\n",
       "      <td>9487</td>\n",
       "      <td>4</td>\n",
       "      <td>3.998067</td>\n",
       "    </tr>\n",
       "    <tr>\n",
       "      <th>B008OHNZI0</th>\n",
       "      <td>8966</td>\n",
       "      <td>4</td>\n",
       "      <td>3.997956</td>\n",
       "    </tr>\n",
       "  </tbody>\n",
       "</table>\n",
       "</div>"
      ],
      "text/plain": [
       "            ratings_count  ratings_average        wr\n",
       "productId                                           \n",
       "B0074BW614          18244                4  3.998992\n",
       "B007WTAJTO          14172                4  3.998704\n",
       "B0019EHU8G          12285                4  3.998505\n",
       "B006GWO5WK          12226                4  3.998498\n",
       "B003ELYQGG          11617                4  3.998420\n",
       "B003ES5ZUU          10276                4  3.998215\n",
       "B007R5YDYA           9907                4  3.998149\n",
       "B00622AG6S           9823                4  3.998133\n",
       "B0002L5R78           9487                4  3.998067\n",
       "B008OHNZI0           8966                4  3.997956"
      ]
     },
     "execution_count": 55,
     "metadata": {},
     "output_type": "execute_result"
    }
   ],
   "source": [
    "qualified.head(10)\n"
   ]
  },
  {
   "cell_type": "code",
   "execution_count": 57,
   "id": "cf5a158e-a1a5-4e6b-9083-60e5e4797f4b",
   "metadata": {},
   "outputs": [
    {
     "data": {
      "text/plain": [
       "Text(95.97222222222221, 0.5, 'Count')"
      ]
     },
     "execution_count": 57,
     "metadata": {},
     "output_type": "execute_result"
    }
   ],
   "source": [
    "# Add color\n",
    "from matplotlib import cm\n",
    "color = cm.inferno_r(np.linspace(.4, .8, 30))\n",
    "\n",
    "rating_plot_count = qualified['ratings_count'].plot.bar(figsize=(12, 4),color=color)\n",
    "rating_plot_count.set_title(\"Rating Count Bar-Plot\")\n",
    "rating_plot_count.set_xlabel(\"productId\")\n",
    "rating_plot_count.set_ylabel(\"Count\")"
   ]
  },
  {
   "cell_type": "code",
   "execution_count": 59,
   "id": "2e1685de-530d-4558-84bc-f29fd2b44de4",
   "metadata": {},
   "outputs": [
    {
     "data": {
      "text/plain": [
       "Text(95.97222222222221, 0.5, 'rating')"
      ]
     },
     "execution_count": 59,
     "metadata": {},
     "output_type": "execute_result"
    }
   ],
   "source": [
    "rating_plot_avg = qualified['ratings_average'].plot.bar(figsize=(12, 4),color=color)\n",
    "rating_plot_avg.set_title(\"Rating Average Bar-Plot\")\n",
    "rating_plot_avg.set_xlabel(\"productId\")\n",
    "rating_plot_avg.set_ylabel(\"rating\")"
   ]
  },
  {
   "cell_type": "code",
   "execution_count": 61,
   "id": "ee5d9245-eb6f-4c84-a517-51238373aa98",
   "metadata": {},
   "outputs": [
    {
     "data": {
      "text/plain": [
       "Text(95.97222222222221, 0.5, 'rating')"
      ]
     },
     "execution_count": 61,
     "metadata": {},
     "output_type": "execute_result"
    }
   ],
   "source": [
    "wr_plot = qualified['wr'].plot.bar(figsize=(12, 4),color=color)\n",
    "wr_plot.set_title(\"Weight Rating Bar-Plot\")\n",
    "wr_plot.set_xlabel(\"productId\")\n",
    "wr_plot.set_ylabel(\"rating\")\n"
   ]
  },
  {
   "cell_type": "code",
   "execution_count": 63,
   "id": "6b02e54c-a651-4339-93ed-c9ea8d217770",
   "metadata": {},
   "outputs": [],
   "source": [
    "#content based\n",
    "reader = Reader()"
   ]
  },
  {
   "cell_type": "code",
   "execution_count": 65,
   "id": "4f32afb1-0363-47bf-85e9-c9341517e312",
   "metadata": {},
   "outputs": [
    {
     "data": {
      "text/html": [
       "<div>\n",
       "<style scoped>\n",
       "    .dataframe tbody tr th:only-of-type {\n",
       "        vertical-align: middle;\n",
       "    }\n",
       "\n",
       "    .dataframe tbody tr th {\n",
       "        vertical-align: top;\n",
       "    }\n",
       "\n",
       "    .dataframe thead th {\n",
       "        text-align: right;\n",
       "    }\n",
       "</style>\n",
       "<table border=\"1\" class=\"dataframe\">\n",
       "  <thead>\n",
       "    <tr style=\"text-align: right;\">\n",
       "      <th></th>\n",
       "      <th>userId</th>\n",
       "      <th>productId</th>\n",
       "      <th>rating</th>\n",
       "      <th>timestamp</th>\n",
       "    </tr>\n",
       "  </thead>\n",
       "  <tbody>\n",
       "    <tr>\n",
       "      <th>0</th>\n",
       "      <td>AKM1MP6P0OYPR</td>\n",
       "      <td>0132793040</td>\n",
       "      <td>5.0</td>\n",
       "      <td>1365811200</td>\n",
       "    </tr>\n",
       "    <tr>\n",
       "      <th>1</th>\n",
       "      <td>A2CX7LUOHB2NDG</td>\n",
       "      <td>0321732944</td>\n",
       "      <td>5.0</td>\n",
       "      <td>1341100800</td>\n",
       "    </tr>\n",
       "    <tr>\n",
       "      <th>2</th>\n",
       "      <td>A2NWSAGRHCP8N5</td>\n",
       "      <td>0439886341</td>\n",
       "      <td>1.0</td>\n",
       "      <td>1367193600</td>\n",
       "    </tr>\n",
       "    <tr>\n",
       "      <th>3</th>\n",
       "      <td>A2WNBOD3WNDNKT</td>\n",
       "      <td>0439886341</td>\n",
       "      <td>3.0</td>\n",
       "      <td>1374451200</td>\n",
       "    </tr>\n",
       "    <tr>\n",
       "      <th>4</th>\n",
       "      <td>A1GI0U4ZRJA8WN</td>\n",
       "      <td>0439886341</td>\n",
       "      <td>1.0</td>\n",
       "      <td>1334707200</td>\n",
       "    </tr>\n",
       "  </tbody>\n",
       "</table>\n",
       "</div>"
      ],
      "text/plain": [
       "           userId   productId  rating   timestamp\n",
       "0   AKM1MP6P0OYPR  0132793040     5.0  1365811200\n",
       "1  A2CX7LUOHB2NDG  0321732944     5.0  1341100800\n",
       "2  A2NWSAGRHCP8N5  0439886341     1.0  1367193600\n",
       "3  A2WNBOD3WNDNKT  0439886341     3.0  1374451200\n",
       "4  A1GI0U4ZRJA8WN  0439886341     1.0  1334707200"
      ]
     },
     "execution_count": 65,
     "metadata": {},
     "output_type": "execute_result"
    }
   ],
   "source": [
    "df.head()"
   ]
  },
  {
   "cell_type": "code",
   "execution_count": 67,
   "id": "a6aad1ef-2acc-4778-b7c1-a7690cca5e56",
   "metadata": {},
   "outputs": [],
   "source": [
    "data = Dataset.load_from_df(df[['userId', 'productId', 'rating']], reader)"
   ]
  },
  {
   "cell_type": "code",
   "execution_count": 69,
   "id": "11c168ab-e860-48c7-85cc-cd94ab7fff68",
   "metadata": {},
   "outputs": [
    {
     "name": "stdout",
     "output_type": "stream",
     "text": [
      "Evaluating RMSE, MAE of algorithm SVD on 5 split(s).\n",
      "\n",
      "                  Fold 1  Fold 2  Fold 3  Fold 4  Fold 5  Mean    Std     \n",
      "RMSE (testset)    1.2926  1.2955  1.2942  1.2934  1.2956  1.2943  0.0012  \n",
      "MAE (testset)     1.0176  1.0197  1.0184  1.0181  1.0200  1.0188  0.0009  \n",
      "Fit time          130.92  137.54  133.89  135.86  135.41  134.72  2.23    \n",
      "Test time         19.01   18.56   18.37   18.67   18.64   18.65   0.21    \n"
     ]
    },
    {
     "data": {
      "text/plain": [
       "{'test_rmse': array([1.29262094, 1.29552842, 1.29420912, 1.29340251, 1.29558284]),\n",
       " 'test_mae': array([1.01759422, 1.01970984, 1.01836544, 1.0181191 , 1.0199824 ]),\n",
       " 'fit_time': (130.91605591773987,\n",
       "  137.5368423461914,\n",
       "  133.8867211341858,\n",
       "  135.8565490245819,\n",
       "  135.41300201416016),\n",
       " 'test_time': (19.011194229125977,\n",
       "  18.55985116958618,\n",
       "  18.374936819076538,\n",
       "  18.673495054244995,\n",
       "  18.636547803878784)}"
      ]
     },
     "execution_count": 69,
     "metadata": {},
     "output_type": "execute_result"
    }
   ],
   "source": [
    "# Use the famous SVD algorithm\n",
    "svd = SVD()\n",
    "\n",
    "# Run 5-fold cross-validation and then print results\n",
    "cross_validate(svd, data, measures=['RMSE', 'MAE'], cv=5, verbose=True)"
   ]
  },
  {
   "cell_type": "code",
   "execution_count": 71,
   "id": "f0a014e6-321d-488f-a4ea-10eedb54c6e0",
   "metadata": {},
   "outputs": [
    {
     "data": {
      "text/plain": [
       "<surprise.prediction_algorithms.matrix_factorization.SVD at 0x1a948b1d0>"
      ]
     },
     "execution_count": 71,
     "metadata": {},
     "output_type": "execute_result"
    }
   ],
   "source": [
    "trainset = data.build_full_trainset()\n",
    "svd.fit(trainset)"
   ]
  },
  {
   "cell_type": "code",
   "execution_count": 73,
   "id": "bbc84c79-0c15-4ad0-952c-a144bf3475d6",
   "metadata": {},
   "outputs": [
    {
     "data": {
      "text/html": [
       "<div>\n",
       "<style scoped>\n",
       "    .dataframe tbody tr th:only-of-type {\n",
       "        vertical-align: middle;\n",
       "    }\n",
       "\n",
       "    .dataframe tbody tr th {\n",
       "        vertical-align: top;\n",
       "    }\n",
       "\n",
       "    .dataframe thead th {\n",
       "        text-align: right;\n",
       "    }\n",
       "</style>\n",
       "<table border=\"1\" class=\"dataframe\">\n",
       "  <thead>\n",
       "    <tr style=\"text-align: right;\">\n",
       "      <th></th>\n",
       "      <th>userId</th>\n",
       "      <th>productId</th>\n",
       "      <th>rating</th>\n",
       "      <th>timestamp</th>\n",
       "    </tr>\n",
       "  </thead>\n",
       "  <tbody>\n",
       "    <tr>\n",
       "      <th>0</th>\n",
       "      <td>AKM1MP6P0OYPR</td>\n",
       "      <td>0132793040</td>\n",
       "      <td>5.0</td>\n",
       "      <td>1365811200</td>\n",
       "    </tr>\n",
       "    <tr>\n",
       "      <th>1</th>\n",
       "      <td>A2CX7LUOHB2NDG</td>\n",
       "      <td>0321732944</td>\n",
       "      <td>5.0</td>\n",
       "      <td>1341100800</td>\n",
       "    </tr>\n",
       "    <tr>\n",
       "      <th>2</th>\n",
       "      <td>A2NWSAGRHCP8N5</td>\n",
       "      <td>0439886341</td>\n",
       "      <td>1.0</td>\n",
       "      <td>1367193600</td>\n",
       "    </tr>\n",
       "    <tr>\n",
       "      <th>3</th>\n",
       "      <td>A2WNBOD3WNDNKT</td>\n",
       "      <td>0439886341</td>\n",
       "      <td>3.0</td>\n",
       "      <td>1374451200</td>\n",
       "    </tr>\n",
       "    <tr>\n",
       "      <th>4</th>\n",
       "      <td>A1GI0U4ZRJA8WN</td>\n",
       "      <td>0439886341</td>\n",
       "      <td>1.0</td>\n",
       "      <td>1334707200</td>\n",
       "    </tr>\n",
       "  </tbody>\n",
       "</table>\n",
       "</div>"
      ],
      "text/plain": [
       "           userId   productId  rating   timestamp\n",
       "0   AKM1MP6P0OYPR  0132793040     5.0  1365811200\n",
       "1  A2CX7LUOHB2NDG  0321732944     5.0  1341100800\n",
       "2  A2NWSAGRHCP8N5  0439886341     1.0  1367193600\n",
       "3  A2WNBOD3WNDNKT  0439886341     3.0  1374451200\n",
       "4  A1GI0U4ZRJA8WN  0439886341     1.0  1334707200"
      ]
     },
     "execution_count": 73,
     "metadata": {},
     "output_type": "execute_result"
    }
   ],
   "source": [
    "df.head()"
   ]
  },
  {
   "cell_type": "code",
   "execution_count": 75,
   "id": "08ab76e2-e899-48a2-8286-8fb2c14b6e78",
   "metadata": {},
   "outputs": [
    {
     "data": {
      "text/plain": [
       "userId\n",
       "A5JLAU2ARJ0BO     520\n",
       "ADLVFFE4VBT8      501\n",
       "A3OXHLG6DIBRW8    498\n",
       "A6FIAB28IS79      431\n",
       "A680RUE1FDO8B     406\n",
       "                 ... \n",
       "A1IUWX30VMVJGP      1\n",
       "A1WBP7XSZI6AUL      1\n",
       "A2K7UNJHE9ZR0G      1\n",
       "A1A6SIW6EWF6FP      1\n",
       "A10M2KEFPEQDHN      1\n",
       "Name: count, Length: 4201696, dtype: int64"
      ]
     },
     "execution_count": 75,
     "metadata": {},
     "output_type": "execute_result"
    }
   ],
   "source": [
    "df['userId'].value_counts()"
   ]
  },
  {
   "cell_type": "code",
   "execution_count": 77,
   "id": "66a60c33-ba5c-418b-a45c-21534aa8320f",
   "metadata": {},
   "outputs": [
    {
     "data": {
      "text/html": [
       "<div>\n",
       "<style scoped>\n",
       "    .dataframe tbody tr th:only-of-type {\n",
       "        vertical-align: middle;\n",
       "    }\n",
       "\n",
       "    .dataframe tbody tr th {\n",
       "        vertical-align: top;\n",
       "    }\n",
       "\n",
       "    .dataframe thead th {\n",
       "        text-align: right;\n",
       "    }\n",
       "</style>\n",
       "<table border=\"1\" class=\"dataframe\">\n",
       "  <thead>\n",
       "    <tr style=\"text-align: right;\">\n",
       "      <th></th>\n",
       "      <th>userId</th>\n",
       "      <th>productId</th>\n",
       "      <th>rating</th>\n",
       "      <th>timestamp</th>\n",
       "    </tr>\n",
       "  </thead>\n",
       "  <tbody>\n",
       "    <tr>\n",
       "      <th>1310</th>\n",
       "      <td>A3LDPF5FMB782Z</td>\n",
       "      <td>1400501466</td>\n",
       "      <td>5.0</td>\n",
       "      <td>1336003200</td>\n",
       "    </tr>\n",
       "    <tr>\n",
       "      <th>1588</th>\n",
       "      <td>A3LDPF5FMB782Z</td>\n",
       "      <td>1400501520</td>\n",
       "      <td>5.0</td>\n",
       "      <td>1362873600</td>\n",
       "    </tr>\n",
       "    <tr>\n",
       "      <th>1696</th>\n",
       "      <td>A3LDPF5FMB782Z</td>\n",
       "      <td>1400501776</td>\n",
       "      <td>5.0</td>\n",
       "      <td>1334102400</td>\n",
       "    </tr>\n",
       "    <tr>\n",
       "      <th>2502</th>\n",
       "      <td>A3LDPF5FMB782Z</td>\n",
       "      <td>140053271X</td>\n",
       "      <td>4.0</td>\n",
       "      <td>1310515200</td>\n",
       "    </tr>\n",
       "    <tr>\n",
       "      <th>3235</th>\n",
       "      <td>A3LDPF5FMB782Z</td>\n",
       "      <td>1400698987</td>\n",
       "      <td>4.0</td>\n",
       "      <td>1392854400</td>\n",
       "    </tr>\n",
       "    <tr>\n",
       "      <th>...</th>\n",
       "      <td>...</td>\n",
       "      <td>...</td>\n",
       "      <td>...</td>\n",
       "      <td>...</td>\n",
       "    </tr>\n",
       "    <tr>\n",
       "      <th>6544365</th>\n",
       "      <td>A3LDPF5FMB782Z</td>\n",
       "      <td>B00995IGBM</td>\n",
       "      <td>3.0</td>\n",
       "      <td>1393977600</td>\n",
       "    </tr>\n",
       "    <tr>\n",
       "      <th>7127653</th>\n",
       "      <td>A3LDPF5FMB782Z</td>\n",
       "      <td>B00BLCLUQO</td>\n",
       "      <td>4.0</td>\n",
       "      <td>1389312000</td>\n",
       "    </tr>\n",
       "    <tr>\n",
       "      <th>7296614</th>\n",
       "      <td>A3LDPF5FMB782Z</td>\n",
       "      <td>B00COYOAYW</td>\n",
       "      <td>4.0</td>\n",
       "      <td>1380067200</td>\n",
       "    </tr>\n",
       "    <tr>\n",
       "      <th>7376630</th>\n",
       "      <td>A3LDPF5FMB782Z</td>\n",
       "      <td>B00DB3SH2G</td>\n",
       "      <td>4.0</td>\n",
       "      <td>1374710400</td>\n",
       "    </tr>\n",
       "    <tr>\n",
       "      <th>7812456</th>\n",
       "      <td>A3LDPF5FMB782Z</td>\n",
       "      <td>B00JJ34TEW</td>\n",
       "      <td>1.0</td>\n",
       "      <td>1404604800</td>\n",
       "    </tr>\n",
       "  </tbody>\n",
       "</table>\n",
       "<p>69 rows × 4 columns</p>\n",
       "</div>"
      ],
      "text/plain": [
       "                 userId   productId  rating   timestamp\n",
       "1310     A3LDPF5FMB782Z  1400501466     5.0  1336003200\n",
       "1588     A3LDPF5FMB782Z  1400501520     5.0  1362873600\n",
       "1696     A3LDPF5FMB782Z  1400501776     5.0  1334102400\n",
       "2502     A3LDPF5FMB782Z  140053271X     4.0  1310515200\n",
       "3235     A3LDPF5FMB782Z  1400698987     4.0  1392854400\n",
       "...                 ...         ...     ...         ...\n",
       "6544365  A3LDPF5FMB782Z  B00995IGBM     3.0  1393977600\n",
       "7127653  A3LDPF5FMB782Z  B00BLCLUQO     4.0  1389312000\n",
       "7296614  A3LDPF5FMB782Z  B00COYOAYW     4.0  1380067200\n",
       "7376630  A3LDPF5FMB782Z  B00DB3SH2G     4.0  1374710400\n",
       "7812456  A3LDPF5FMB782Z  B00JJ34TEW     1.0  1404604800\n",
       "\n",
       "[69 rows x 4 columns]"
      ]
     },
     "execution_count": 77,
     "metadata": {},
     "output_type": "execute_result"
    }
   ],
   "source": [
    "# Check specific userId review\n",
    "df[df['userId'] == 'A3LDPF5FMB782Z']"
   ]
  },
  {
   "cell_type": "code",
   "execution_count": 79,
   "id": "2779fcda-8b1c-4f50-8216-998d274408e9",
   "metadata": {},
   "outputs": [
    {
     "data": {
      "text/plain": [
       "Prediction(uid='A3LDPF5FMB782Z', iid='140053271X', r_ui=5.0, est=3.4754682662117315, details={'was_impossible': False})"
      ]
     },
     "execution_count": 79,
     "metadata": {},
     "output_type": "execute_result"
    }
   ],
   "source": [
    "# predict based on this data\n",
    "svd.predict('A3LDPF5FMB782Z', '140053271X', 5.0)"
   ]
  },
  {
   "cell_type": "code",
   "execution_count": 81,
   "id": "bbac0be4-d034-49b7-929f-50329e529394",
   "metadata": {},
   "outputs": [
    {
     "data": {
      "text/plain": [
       "Prediction(uid='A3LDPF5FMB782Z', iid='B00995IGBM', r_ui=3.0, est=3.759665565175136, details={'was_impossible': False})"
      ]
     },
     "execution_count": 81,
     "metadata": {},
     "output_type": "execute_result"
    }
   ],
   "source": [
    "# predict based on this data\n",
    "svd.predict('A3LDPF5FMB782Z', 'B00995IGBM', 3.0)"
   ]
  },
  {
   "cell_type": "code",
   "execution_count": null,
   "id": "c4e52798-d7bd-427f-b0d7-909dd1b89956",
   "metadata": {},
   "outputs": [],
   "source": [
    "# predict based on this data\n",
    "svd.predict('A3LDPF5FMB782Z', 'B00995IGBM', 3.0)"
   ]
  }
 ],
 "metadata": {
  "kernelspec": {
   "display_name": "Python 3 (ipykernel)",
   "language": "python",
   "name": "python3"
  },
  "language_info": {
   "codemirror_mode": {
    "name": "ipython",
    "version": 3
   },
   "file_extension": ".py",
   "mimetype": "text/x-python",
   "name": "python",
   "nbconvert_exporter": "python",
   "pygments_lexer": "ipython3",
   "version": "3.11.7"
  }
 },
 "nbformat": 4,
 "nbformat_minor": 5
}
